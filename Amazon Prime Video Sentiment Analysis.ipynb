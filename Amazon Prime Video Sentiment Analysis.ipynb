{
 "cells": [
  {
   "cell_type": "code",
   "execution_count": 17,
   "id": "456ca082",
   "metadata": {},
   "outputs": [
    {
     "name": "stdout",
     "output_type": "stream",
     "text": [
      "Requirement already satisfied: transformers in c:\\users\\sd36194\\appdata\\local\\anaconda3\\lib\\site-packages (4.36.2)\n",
      "Requirement already satisfied: filelock in c:\\users\\sd36194\\appdata\\local\\anaconda3\\lib\\site-packages (from transformers) (3.9.0)\n",
      "Requirement already satisfied: huggingface-hub<1.0,>=0.19.3 in c:\\users\\sd36194\\appdata\\local\\anaconda3\\lib\\site-packages (from transformers) (0.20.1)\n",
      "Requirement already satisfied: numpy>=1.17 in c:\\users\\sd36194\\appdata\\local\\anaconda3\\lib\\site-packages (from transformers) (1.24.3)\n",
      "Requirement already satisfied: packaging>=20.0 in c:\\users\\sd36194\\appdata\\local\\anaconda3\\lib\\site-packages (from transformers) (23.0)\n",
      "Requirement already satisfied: pyyaml>=5.1 in c:\\users\\sd36194\\appdata\\local\\anaconda3\\lib\\site-packages (from transformers) (6.0)\n",
      "Requirement already satisfied: regex!=2019.12.17 in c:\\users\\sd36194\\appdata\\local\\anaconda3\\lib\\site-packages (from transformers) (2022.7.9)\n",
      "Requirement already satisfied: requests in c:\\users\\sd36194\\appdata\\local\\anaconda3\\lib\\site-packages (from transformers) (2.29.0)\n",
      "Requirement already satisfied: tokenizers<0.19,>=0.14 in c:\\users\\sd36194\\appdata\\local\\anaconda3\\lib\\site-packages (from transformers) (0.15.0)\n",
      "Requirement already satisfied: safetensors>=0.3.1 in c:\\users\\sd36194\\appdata\\local\\anaconda3\\lib\\site-packages (from transformers) (0.4.1)\n",
      "Requirement already satisfied: tqdm>=4.27 in c:\\users\\sd36194\\appdata\\local\\anaconda3\\lib\\site-packages (from transformers) (4.65.0)\n",
      "Requirement already satisfied: fsspec>=2023.5.0 in c:\\users\\sd36194\\appdata\\local\\anaconda3\\lib\\site-packages (from huggingface-hub<1.0,>=0.19.3->transformers) (2023.5.0)\n",
      "Requirement already satisfied: typing-extensions>=3.7.4.3 in c:\\users\\sd36194\\appdata\\local\\anaconda3\\lib\\site-packages (from huggingface-hub<1.0,>=0.19.3->transformers) (4.6.3)\n",
      "Requirement already satisfied: colorama in c:\\users\\sd36194\\appdata\\local\\anaconda3\\lib\\site-packages (from tqdm>=4.27->transformers) (0.4.6)\n",
      "Requirement already satisfied: charset-normalizer<4,>=2 in c:\\users\\sd36194\\appdata\\local\\anaconda3\\lib\\site-packages (from requests->transformers) (2.0.4)\n",
      "Requirement already satisfied: idna<4,>=2.5 in c:\\users\\sd36194\\appdata\\local\\anaconda3\\lib\\site-packages (from requests->transformers) (3.4)\n",
      "Requirement already satisfied: urllib3<1.27,>=1.21.1 in c:\\users\\sd36194\\appdata\\local\\anaconda3\\lib\\site-packages (from requests->transformers) (1.26.16)\n",
      "Requirement already satisfied: certifi>=2017.4.17 in c:\\users\\sd36194\\appdata\\local\\anaconda3\\lib\\site-packages (from requests->transformers) (2023.5.7)\n"
     ]
    }
   ],
   "source": [
    "#!pip install pycountry\n",
    "#!pip install torch\n",
    "#!pip install --upgrade pip\n",
    "!pip install --upgrade transformers\n",
    "#!pip install fsspec==2023.5.0"
   ]
  },
  {
   "cell_type": "code",
   "execution_count": 18,
   "id": "37716444",
   "metadata": {},
   "outputs": [
    {
     "ename": "ImportError",
     "evalue": "cannot import name 'pipeline' from 'transformers' (C:\\Users\\sd36194\\AppData\\Local\\anaconda3\\Lib\\site-packages\\transformers\\__init__.py)",
     "output_type": "error",
     "traceback": [
      "\u001b[1;31m---------------------------------------------------------------------------\u001b[0m",
      "\u001b[1;31mImportError\u001b[0m                               Traceback (most recent call last)",
      "Cell \u001b[1;32mIn[18], line 9\u001b[0m\n\u001b[0;32m      6\u001b[0m \u001b[38;5;28;01mimport\u001b[39;00m \u001b[38;5;21;01mpycountry\u001b[39;00m\n\u001b[0;32m      8\u001b[0m \u001b[38;5;28;01mfrom\u001b[39;00m \u001b[38;5;21;01mtransformers\u001b[39;00m \u001b[38;5;28;01mimport\u001b[39;00m AutoTokenizer\n\u001b[1;32m----> 9\u001b[0m \u001b[38;5;28;01mfrom\u001b[39;00m \u001b[38;5;21;01mtransformers\u001b[39;00m \u001b[38;5;28;01mimport\u001b[39;00m pipeline\n",
      "\u001b[1;31mImportError\u001b[0m: cannot import name 'pipeline' from 'transformers' (C:\\Users\\sd36194\\AppData\\Local\\anaconda3\\Lib\\site-packages\\transformers\\__init__.py)"
     ]
    }
   ],
   "source": [
    "import pandas as pd\n",
    "import numpy as np\n",
    "import matplotlib.pyplot as plt\n",
    "import seaborn as sns\n",
    "import plotly.express as px\n",
    "import pycountry\n",
    "\n",
    "from transformers import AutoTokenizer\n",
    "from transformers import pipeline"
   ]
  },
  {
   "cell_type": "markdown",
   "id": "c268f995",
   "metadata": {},
   "source": [
    "Dataset is from Kaggle: https://www.kaggle.com/datasets/dgoenrique/amazon-prime-movies-and-tv-shows"
   ]
  },
  {
   "cell_type": "code",
   "execution_count": null,
   "id": "fca24330",
   "metadata": {},
   "outputs": [],
   "source": [
    "amazon_df = pd.read_csv(\"titles.csv\")"
   ]
  },
  {
   "cell_type": "code",
   "execution_count": null,
   "id": "174fc734",
   "metadata": {},
   "outputs": [],
   "source": [
    "amazon_df.head()"
   ]
  },
  {
   "cell_type": "code",
   "execution_count": null,
   "id": "29faaf83",
   "metadata": {},
   "outputs": [],
   "source": [
    "amazon_df.shape"
   ]
  },
  {
   "cell_type": "code",
   "execution_count": null,
   "id": "105c9aae",
   "metadata": {},
   "outputs": [],
   "source": [
    "amazon_df.isnull().sum()"
   ]
  },
  {
   "cell_type": "code",
   "execution_count": null,
   "id": "afd1e231",
   "metadata": {},
   "outputs": [],
   "source": [
    "# get null percentage of each column\n",
    "null_rate_dict = {}\n",
    "for i in amazon_df.columns:\n",
    "    null_rate = amazon_df[i].isna().sum() / len(amazon_df) * 100\n",
    "    null_rate_dict[i] = null_rate"
   ]
  },
  {
   "cell_type": "code",
   "execution_count": null,
   "id": "bc40c6e9",
   "metadata": {},
   "outputs": [],
   "source": [
    "# sort the null percentage from highest to lowest\n",
    "sorted_null_rate = sorted(null_rate_dict.items(), key=lambda x:x[1], reverse = True)\n",
    "print(sorted_null_rate)"
   ]
  },
  {
   "cell_type": "code",
   "execution_count": null,
   "id": "00ee81da",
   "metadata": {},
   "outputs": [],
   "source": [
    "# only print out columns with null percentage\n",
    "for i in sorted_null_rate:\n",
    "    if i[1] > 0:\n",
    "        print(f\"{i[0]} null percentage: {round(i[1], 2)}%\")"
   ]
  },
  {
   "cell_type": "code",
   "execution_count": null,
   "id": "f9241227",
   "metadata": {},
   "outputs": [],
   "source": [
    "amazon_df.info()"
   ]
  },
  {
   "cell_type": "code",
   "execution_count": null,
   "id": "a539d13a",
   "metadata": {},
   "outputs": [],
   "source": [
    "round(amazon_df.describe(), 2)"
   ]
  },
  {
   "cell_type": "code",
   "execution_count": null,
   "id": "3604b38f",
   "metadata": {},
   "outputs": [],
   "source": [
    "# all the null seasons are movie type\n",
    "amazon_df[amazon_df['seasons'].isna()]['type'].unique()"
   ]
  },
  {
   "cell_type": "code",
   "execution_count": null,
   "id": "f2cf5cd5",
   "metadata": {},
   "outputs": [],
   "source": [
    "# fill the null values of seasons to zero\n",
    "amazon_df['seasons'] = amazon_df['seasons'].fillna('0')"
   ]
  },
  {
   "cell_type": "code",
   "execution_count": null,
   "id": "31a94c0e",
   "metadata": {},
   "outputs": [],
   "source": [
    "# get the first genre from genres as our primary genre\n",
    "amazon_df['primary_genre'] = amazon_df['genres'].apply(lambda x: x.strip(\"[ \").strip(\"]\").split(\",\")[0])\n",
    "amazon_df['primary_genre'] = amazon_df['primary_genre'].str.replace(\"'\", \"\")\n",
    "amazon_df.head()"
   ]
  },
  {
   "cell_type": "code",
   "execution_count": null,
   "id": "80589f27",
   "metadata": {},
   "outputs": [],
   "source": [
    "amazon_df['production_countries'].unique()"
   ]
  },
  {
   "cell_type": "code",
   "execution_count": null,
   "id": "26ec0300",
   "metadata": {},
   "outputs": [],
   "source": [
    "# get the primary country code from the list as production country\n",
    "amazon_df['production_country'] = amazon_df['production_countries'].apply(lambda x: x.strip(\"[ \").strip(\"]\").split(\",\")[0])\n",
    "amazon_df['production_country'] = amazon_df['production_country'].str.replace(\"'\", \"\")\n",
    "amazon_df.head()"
   ]
  },
  {
   "cell_type": "code",
   "execution_count": null,
   "id": "904beb27",
   "metadata": {},
   "outputs": [],
   "source": [
    "# print unique values of country code from the production country list\n",
    "abbreviated_countries = amazon_df['production_country']\n",
    "abbreviated_countries.unique()"
   ]
  },
  {
   "cell_type": "code",
   "execution_count": null,
   "id": "12e96d61",
   "metadata": {},
   "outputs": [],
   "source": [
    "full_countries = []\n",
    "# for each production country code, get the full country name and store in a list\n",
    "for abbreviation in abbreviated_countries:\n",
    "    try:\n",
    "        country = pycountry.countries.get(alpha_2 = abbreviation).name\n",
    "        full_countries.append(country)\n",
    "    except:\n",
    "        full_countries.append(abbreviation)"
   ]
  },
  {
   "cell_type": "code",
   "execution_count": null,
   "id": "80242a74",
   "metadata": {},
   "outputs": [],
   "source": [
    "len(full_countries)"
   ]
  },
  {
   "cell_type": "code",
   "execution_count": null,
   "id": "62c82fa1",
   "metadata": {},
   "outputs": [],
   "source": [
    "# create a new column with the full country name\n",
    "amazon_df['full_country_name'] = full_countries\n",
    "amazon_df"
   ]
  },
  {
   "cell_type": "markdown",
   "id": "7ff88b5a",
   "metadata": {},
   "source": [
    "# Sentiment Analysis on Description"
   ]
  },
  {
   "cell_type": "code",
   "execution_count": null,
   "id": "5bea3064",
   "metadata": {},
   "outputs": [],
   "source": []
  }
 ],
 "metadata": {
  "kernelspec": {
   "display_name": "Python 3 (ipykernel)",
   "language": "python",
   "name": "python3"
  },
  "language_info": {
   "codemirror_mode": {
    "name": "ipython",
    "version": 3
   },
   "file_extension": ".py",
   "mimetype": "text/x-python",
   "name": "python",
   "nbconvert_exporter": "python",
   "pygments_lexer": "ipython3",
   "version": "3.11.3"
  }
 },
 "nbformat": 4,
 "nbformat_minor": 5
}
